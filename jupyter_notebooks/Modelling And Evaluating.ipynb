{
 "cells": [
  {
   "cell_type": "markdown",
   "id": "3b07b86b",
   "metadata": {},
   "source": [
    "# Modelling and Evaluating"
   ]
  },
  {
   "cell_type": "markdown",
   "id": "1ec31e78",
   "metadata": {},
   "source": [
    "## Objectives"
   ]
  },
  {
   "cell_type": "markdown",
   "id": "4fb62914",
   "metadata": {},
   "source": [
    "* Answer business requirement 2:\n",
    "\n",
    "    - The client wants to develop a system capable of identifying whether a leaf shows signs of powdery mildew infection."
   ]
  },
  {
   "cell_type": "markdown",
   "id": "a5975b59",
   "metadata": {},
   "source": [
    "## Inputs "
   ]
  },
  {
   "cell_type": "markdown",
   "id": "7c0d3195",
   "metadata": {},
   "source": [
    "* Image shape embeddings (pickle file).\n",
    "\n",
    "* Images from the test, train, validation folders and their subfolders."
   ]
  },
  {
   "cell_type": "markdown",
   "id": "b181ed1e",
   "metadata": {},
   "source": [
    "    ├── inputs\n",
    "    │   └──cherryleaves_dataset\n",
    "    │      └──cherry-leaves\n",
    "    │           │\n",
    "    │           ├── test\n",
    "    │           │   ├── healthy\n",
    "    │           │   └── powdery_mildew\n",
    "    │           │\n",
    "    │           ├── train\n",
    "    │           │   ├── healthy\n",
    "    │           │   └── powdery_mildew\n",
    "    │           │\n",
    "    │           └── validation\n",
    "    │               ├── healthy\n",
    "    │               └── powdery_mildew\n",
    "    └──"
   ]
  },
  {
   "cell_type": "markdown",
   "id": "a4d320cf",
   "metadata": {},
   "source": [
    "## Outputs"
   ]
  },
  {
   "cell_type": "markdown",
   "id": "23f346f6",
   "metadata": {},
   "source": [
    "* Images distribution plot in train, validation, and test set.\n",
    "\n",
    "    - label distribution - bar chart. -set distriburion - pie chart."
   ]
  },
  {
   "cell_type": "markdown",
   "id": "1ef44d87",
   "metadata": {},
   "source": [
    "* Image augmentation.\n",
    "\n",
    "    - plot augmented images for each set."
   ]
  },
  {
   "cell_type": "markdown",
   "id": "98ffa958",
   "metadata": {},
   "source": [
    "* Class indices to change prediction inference in labels.\n",
    "\n",
    "* Creation of a Machine learning model and display of its summary.\n",
    "\n",
    "* Model training.\n",
    "\n",
    "* Save model."
   ]
  },
  {
   "cell_type": "markdown",
   "id": "a874ce9a",
   "metadata": {},
   "source": [
    "* Learning curve plot for model performance.\n",
    "\n",
    "    - Model A - separate plots for accuracy and loss.\n",
    "    - Model B - comprehensive model history plot.\n",
    "    - Model C - plot model history with plotly."
   ]
  },
  {
   "cell_type": "markdown",
   "id": "0e09c51b",
   "metadata": {},
   "source": [
    "* Model evaluation on saved file.\n",
    "\n",
    "    - Calculate accuracy.\n",
    "    - Plot ROC curve.\n",
    "    - Calculate classification report (Model A)\n",
    "        - Model B - classification report with macro avg and weighted avg\n",
    "        - Model C - syntetic classification report per label"
   ]
  },
  {
   "cell_type": "markdown",
   "id": "7b6ba419",
   "metadata": {},
   "source": [
    "* Plot Confusion Matrix\n",
    "\n",
    "* Save evaluation pickle file\n",
    "\n",
    "* Prediction on the random image file."
   ]
  },
  {
   "cell_type": "markdown",
   "id": "f6e686bd",
   "metadata": {},
   "source": [
    "## Comments | Insights | Conclusions"
   ]
  },
  {
   "cell_type": "markdown",
   "id": "447e5d41",
   "metadata": {},
   "source": [
    "* The same data was plotted in different versions to accomodate possible client's requests of further data understanding.\n",
    "\n",
    "* The CNN was built seeking maximise accuracy while minimizing loss and training time.\n",
    "\n",
    "* The CNN was kept as small as possible withouth compromising accuracy and avoiding overfitting.\n",
    "\n",
    "* More about hyperparameters optimization and trial and error phase is documented in the readme.md file and in a separate .pdf file."
   ]
  },
  {
   "cell_type": "markdown",
   "id": "6fe7027e",
   "metadata": {},
   "source": [
    "---"
   ]
  },
  {
   "cell_type": "markdown",
   "id": "32495167",
   "metadata": {},
   "source": [
    "# Import Packages"
   ]
  },
  {
   "cell_type": "code",
   "execution_count": 1,
   "id": "93592671",
   "metadata": {},
   "outputs": [],
   "source": [
    "import os\n",
    "import pandas as pd\n",
    "import numpy as np\n",
    "import matplotlib.pyplot as plt \n",
    "import seaborn as sns \n",
    "from matplotlib.image import imread"
   ]
  },
  {
   "cell_type": "markdown",
   "id": "438be684",
   "metadata": {},
   "source": [
    "## Set working directory"
   ]
  },
  {
   "cell_type": "code",
   "execution_count": 2,
   "id": "ff7f83fb",
   "metadata": {},
   "outputs": [],
   "source": [
    "cwd = os.getcwd()"
   ]
  },
  {
   "cell_type": "code",
   "execution_count": 3,
   "id": "56d18f3d",
   "metadata": {},
   "outputs": [
    {
     "name": "stdout",
     "output_type": "stream",
     "text": [
      "You set a new current directory\n"
     ]
    }
   ],
   "source": [
    "os.chdir('/workspaces/Mildew-detection-in-cherry-leaves')\n",
    "print(\"You set a new current directory\")"
   ]
  },
  {
   "cell_type": "code",
   "execution_count": 4,
   "id": "99f06ce3",
   "metadata": {},
   "outputs": [
    {
     "data": {
      "text/plain": [
       "'/workspaces/Mildew-detection-in-cherry-leaves'"
      ]
     },
     "execution_count": 4,
     "metadata": {},
     "output_type": "execute_result"
    }
   ],
   "source": [
    "work_dir = os.getcwd()\n",
    "work_dir"
   ]
  },
  {
   "cell_type": "markdown",
   "id": "290df6c6",
   "metadata": {},
   "source": [
    "## Set input directory"
   ]
  },
  {
   "cell_type": "markdown",
   "id": "1027bac3",
   "metadata": {},
   "source": [
    "* Set train path\n",
    "* Set validation path\n",
    "* Set test path"
   ]
  },
  {
   "cell_type": "code",
   "execution_count": 5,
   "id": "e78a3d3c",
   "metadata": {},
   "outputs": [],
   "source": [
    "my_data_dir = 'inputs/cherryleaves_dataset/cherry-leaves'\n",
    "train_path = my_data_dir + '/train' \n",
    "val_path = my_data_dir + '/validation'\n",
    "test_path = my_data_dir + '/test'"
   ]
  },
  {
   "cell_type": "markdown",
   "id": "4441adc2",
   "metadata": {},
   "source": [
    "## Set output directory"
   ]
  },
  {
   "cell_type": "code",
   "execution_count": 6,
   "id": "5baf2a6b",
   "metadata": {},
   "outputs": [
    {
     "name": "stdout",
     "output_type": "stream",
     "text": [
      "Old version is already available create a new version.\n"
     ]
    }
   ],
   "source": [
    "version = 'v1'\n",
    "file_path = f'outputs/{version}'\n",
    "\n",
    "if 'outputs' in os.listdir(work_dir) and version in os.listdir(work_dir + '/outputs'):\n",
    "    print('Old version is already available create a new version.')\n",
    "    pass\n",
    "else:\n",
    "    os.makedirs(name=file_path)"
   ]
  },
  {
   "cell_type": "markdown",
   "id": "27ab02b4",
   "metadata": {},
   "source": [
    "## Set Label names"
   ]
  },
  {
   "cell_type": "code",
   "execution_count": 7,
   "id": "e7e1fb2d",
   "metadata": {},
   "outputs": [
    {
     "name": "stdout",
     "output_type": "stream",
     "text": [
      "Label for the images are ['powdery_mildew', 'healthy']\n"
     ]
    }
   ],
   "source": [
    "labels = os.listdir(train_path)\n",
    "print('Label for the images are', labels)"
   ]
  },
  {
   "cell_type": "markdown",
   "id": "72f8df64",
   "metadata": {},
   "source": [
    "## Set image shape"
   ]
  },
  {
   "cell_type": "code",
   "execution_count": 8,
   "id": "5406692c",
   "metadata": {},
   "outputs": [
    {
     "data": {
      "text/plain": [
       "(256, 256, 3)"
      ]
     },
     "execution_count": 8,
     "metadata": {},
     "output_type": "execute_result"
    }
   ],
   "source": [
    "import joblib\n",
    "version = 'v1'\n",
    "image_shape = joblib.load(filename=f\"outputs/{version}/image_shape.pkl\")\n",
    "image_shape"
   ]
  },
  {
   "cell_type": "markdown",
   "id": "fce21e91",
   "metadata": {},
   "source": [
    "---"
   ]
  },
  {
   "cell_type": "markdown",
   "id": "3894d675",
   "metadata": {},
   "source": [
    "# Images distribution"
   ]
  },
  {
   "cell_type": "markdown",
   "id": "764d7c37",
   "metadata": {},
   "source": [
    "## Count number of images per set and label"
   ]
  },
  {
   "cell_type": "code",
   "execution_count": 9,
   "id": "9dc0ffeb",
   "metadata": {},
   "outputs": [
    {
     "name": "stdout",
     "output_type": "stream",
     "text": [
      "* train - powdery_mildew: 1472 images\n",
      "* train - healthy: 1472 images\n",
      "* test - powdery_mildew: 422 images\n",
      "* test - healthy: 422 images\n",
      "* validation - powdery_mildew: 210 images\n",
      "* validation - healthy: 210 images\n",
      "\n",
      "\n"
     ]
    }
   ],
   "source": [
    "import plotly.express as px\n",
    "\n",
    "rows = []\n",
    "for folder in ['train', 'test', 'validation']:\n",
    "    for label in labels:\n",
    "        count = len(os.listdir(os.path.join(my_data_dir, folder, label)))\n",
    "        rows.append({\n",
    "            'Set': folder,\n",
    "            'Label': label,\n",
    "            'Count': count\n",
    "        })\n",
    "        print(f\"* {folder} - {label}: {count} images\")\n",
    "\n",
    "df_freq = pd.DataFrame(rows)\n",
    "print(\"\\n\")"
   ]
  }
 ],
 "metadata": {
  "kernelspec": {
   "display_name": "3.12.1",
   "language": "python",
   "name": "python3"
  },
  "language_info": {
   "codemirror_mode": {
    "name": "ipython",
    "version": 3
   },
   "file_extension": ".py",
   "mimetype": "text/x-python",
   "name": "python",
   "nbconvert_exporter": "python",
   "pygments_lexer": "ipython3",
   "version": "3.12.1"
  }
 },
 "nbformat": 4,
 "nbformat_minor": 5
}
