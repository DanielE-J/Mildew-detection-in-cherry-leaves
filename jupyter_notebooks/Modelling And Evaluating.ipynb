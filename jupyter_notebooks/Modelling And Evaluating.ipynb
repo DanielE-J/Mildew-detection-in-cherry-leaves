{
 "cells": [
  {
   "cell_type": "markdown",
   "id": "3b07b86b",
   "metadata": {},
   "source": [
    "# Modelling and Evaluating"
   ]
  },
  {
   "cell_type": "markdown",
   "id": "1ec31e78",
   "metadata": {},
   "source": [
    "## Objectives"
   ]
  },
  {
   "cell_type": "markdown",
   "id": "4fb62914",
   "metadata": {},
   "source": [
    "* Answer business requirement 2:\n",
    "\n",
    "    - The client wants to develop a system capable of identifying whether a leaf shows signs of powdery mildew infection."
   ]
  },
  {
   "cell_type": "markdown",
   "id": "a5975b59",
   "metadata": {},
   "source": [
    "## Inputs "
   ]
  },
  {
   "cell_type": "markdown",
   "id": "7c0d3195",
   "metadata": {},
   "source": [
    "* Image shape embeddings (pickle file).\n",
    "\n",
    "* Images from the test, train, validation folders and their subfolders."
   ]
  },
  {
   "cell_type": "markdown",
   "id": "b181ed1e",
   "metadata": {},
   "source": [
    "    ├── inputs\n",
    "    │   └──cherryleaves_dataset\n",
    "    │      └──cherry-leaves\n",
    "    │           │\n",
    "    │           ├── test\n",
    "    │           │   ├── healthy\n",
    "    │           │   └── powdery_mildew\n",
    "    │           │\n",
    "    │           ├── train\n",
    "    │           │   ├── healthy\n",
    "    │           │   └── powdery_mildew\n",
    "    │           │\n",
    "    │           └── validation\n",
    "    │               ├── healthy\n",
    "    │               └── powdery_mildew\n",
    "    └──"
   ]
  },
  {
   "cell_type": "markdown",
   "id": "a4d320cf",
   "metadata": {},
   "source": [
    "## Outputs"
   ]
  },
  {
   "cell_type": "markdown",
   "id": "23f346f6",
   "metadata": {},
   "source": [
    "* Images distribution plot in train, validation, and test set.\n",
    "\n",
    "    - label distribution - bar chart. -set distriburion - pie chart."
   ]
  },
  {
   "cell_type": "markdown",
   "id": "1ef44d87",
   "metadata": {},
   "source": [
    "* Image augmentation.\n",
    "\n",
    "    - plot augmented images for each set."
   ]
  },
  {
   "cell_type": "markdown",
   "id": "98ffa958",
   "metadata": {},
   "source": [
    "* Class indices to change prediction inference in labels.\n",
    "\n",
    "* Creation of a Machine learning model and display of its summary.\n",
    "\n",
    "* Model training.\n",
    "\n",
    "* Save model."
   ]
  },
  {
   "cell_type": "markdown",
   "id": "a874ce9a",
   "metadata": {},
   "source": [
    "* Learning curve plot for model performance.\n",
    "\n",
    "    - Model A - separate plots for accuracy and loss.\n",
    "    - Model B - comprehensive model history plot.\n",
    "    - Model C - plot model history with plotly."
   ]
  },
  {
   "cell_type": "markdown",
   "id": "0e09c51b",
   "metadata": {},
   "source": [
    "* Model evaluation on saved file.\n",
    "\n",
    "    - Calculate accuracy.\n",
    "    - Plot ROC curve.\n",
    "    - Calculate classification report (Model A)\n",
    "        - Model B - classification report with macro avg and weighted avg\n",
    "        - Model C - syntetic classification report per label"
   ]
  },
  {
   "cell_type": "markdown",
   "id": "7b6ba419",
   "metadata": {},
   "source": [
    "* Plot Confusion Matrix\n",
    "\n",
    "* Save evaluation pickle file\n",
    "\n",
    "* Prediction on the random image file."
   ]
  },
  {
   "cell_type": "markdown",
   "id": "f6e686bd",
   "metadata": {},
   "source": [
    "## Comments | Insights | Conclusions"
   ]
  },
  {
   "cell_type": "markdown",
   "id": "447e5d41",
   "metadata": {},
   "source": [
    "* The same data was plotted in different versions to accomodate possible client's requests of further data understanding.\n",
    "\n",
    "* The CNN was built seeking maximise accuracy while minimizing loss and training time.\n",
    "\n",
    "* The CNN was kept as small as possible withouth compromising accuracy and avoiding overfitting.\n",
    "\n",
    "* More about hyperparameters optimization and trial and error phase is documented in the readme.md file and in a separate .pdf file."
   ]
  },
  {
   "cell_type": "markdown",
   "id": "6fe7027e",
   "metadata": {},
   "source": [
    "---"
   ]
  },
  {
   "cell_type": "markdown",
   "id": "32495167",
   "metadata": {},
   "source": [
    "# Import Packages"
   ]
  },
  {
   "cell_type": "code",
   "execution_count": 1,
   "id": "93592671",
   "metadata": {},
   "outputs": [],
   "source": [
    "import os\n",
    "import pandas as pd\n",
    "import numpy as np\n",
    "import matplotlib.pyplot as plt \n",
    "import seaborn as sns \n",
    "from matplotlib.image import imread"
   ]
  }
 ],
 "metadata": {
  "kernelspec": {
   "display_name": "3.12.1",
   "language": "python",
   "name": "python3"
  },
  "language_info": {
   "codemirror_mode": {
    "name": "ipython",
    "version": 3
   },
   "file_extension": ".py",
   "mimetype": "text/x-python",
   "name": "python",
   "nbconvert_exporter": "python",
   "pygments_lexer": "ipython3",
   "version": "3.12.1"
  }
 },
 "nbformat": 4,
 "nbformat_minor": 5
}
