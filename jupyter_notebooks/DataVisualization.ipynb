{
 "cells": [
  {
   "cell_type": "markdown",
   "id": "c21de75c",
   "metadata": {},
   "source": [
    "# Data Visualization Notebook"
   ]
  },
  {
   "cell_type": "markdown",
   "id": "9925ed31",
   "metadata": {},
   "source": [
    "## Objectives"
   ]
  },
  {
   "cell_type": "markdown",
   "id": "23b2ea21",
   "metadata": {},
   "source": [
    "* Answer business requirement no.1:\n",
    "\n",
    "    - The client is interested in carrying out a study that focuses on visually distinguishing between a healthy cherry leaf and one that shows signs of powdery mildew."
   ]
  },
  {
   "cell_type": "markdown",
   "id": "2f30bb86",
   "metadata": {},
   "source": [
    "## Inputs"
   ]
  },
  {
   "cell_type": "markdown",
   "id": "3bf3cf70",
   "metadata": {},
   "source": [
    "* Images are taken from the test, train, validation folders and their subfolders."
   ]
  },
  {
   "cell_type": "markdown",
   "id": "94457ee3",
   "metadata": {},
   "source": [
    "    ├── inputs\n",
    "    │   └──cherryleaves_dataset\n",
    "    │      └──cherry-leaves\n",
    "    │           │\n",
    "    │           ├── test\n",
    "    │           │   ├── healthy\n",
    "    │           │   └── powdery_mildew\n",
    "    │           │\n",
    "    │           ├── train\n",
    "    │           │   ├── healthy\n",
    "    │           │   └── powdery_mildew\n",
    "    │           │\n",
    "    │           └── validation\n",
    "    │               ├── healthy\n",
    "    │               └── powdery_mildew\n",
    "    └──"
   ]
  },
  {
   "cell_type": "markdown",
   "id": "beec56e8",
   "metadata": {},
   "source": [
    "## Outputs"
   ]
  },
  {
   "cell_type": "markdown",
   "id": "67e1ceae",
   "metadata": {},
   "source": [
    "* Compute the average image size from the training set.\n",
    "\n",
    "    - Since the CNN will be trained on the test set, it is essential to standardize all input images to the same size. The chosen input size will directly determine the CNN architecture."
   ]
  },
  {
   "cell_type": "markdown",
   "id": "8c7b077d",
   "metadata": {},
   "source": [
    "* Leverage the saved image shape embeddings (pickle file).\n",
    "\n",
    "    - Use these embeddings to analyze image dimensions and ensure consistency."
   ]
  },
  {
   "cell_type": "markdown",
   "id": "3a9c0cb3",
   "metadata": {},
   "source": [
    "* Visualize image characteristics by label.\n",
    "\n",
    "    - Plot the mean and variability of image sizes for each class label."
   ]
  },
  {
   "cell_type": "markdown",
   "id": "0b26c8ee",
   "metadata": {},
   "source": [
    "* Highlight class-specific differences.\n",
    "\n",
    "    - Create plots that emphasize the contrast between healthy cherry leaves and those infected with mildew."
   ]
  },
  {
   "cell_type": "markdown",
   "id": "5a7ebfa3",
   "metadata": {},
   "source": [
    "* Address Business Requirement 1.\n",
    "\n",
    "    - Develop code that not only fulfills this requirement but can also be adapted to generate an image montage for display in the Streamlit dashboard."
   ]
  },
  {
   "cell_type": "markdown",
   "id": "bc507db0",
   "metadata": {},
   "source": [
    "## Comments | Insights | Conclusions"
   ]
  },
  {
   "cell_type": "markdown",
   "id": "5d602902",
   "metadata": {},
   "source": [
    "* These steps are necessary to further understand and prepare the data that will be fed into the CNN. Additionally, the data has been visually arranged to meet the client’s request (Business Requirement #1)"
   ]
  },
  {
   "cell_type": "markdown",
   "id": "ad4dae69",
   "metadata": {},
   "source": [
    "---"
   ]
  },
  {
   "cell_type": "markdown",
   "id": "9ca383ce",
   "metadata": {},
   "source": [
    "# Import Libraries"
   ]
  },
  {
   "cell_type": "code",
   "execution_count": 1,
   "id": "08611d68",
   "metadata": {},
   "outputs": [],
   "source": [
    "import os\n",
    "import pandas as pd\n",
    "import numpy as np\n",
    "import matplotlib.pyplot as plt \n",
    "import seaborn as sns \n",
    "import joblib\n",
    "sns.set_style('white')\n",
    "from matplotlib.image import imread"
   ]
  },
  {
   "cell_type": "markdown",
   "id": "025f51c6",
   "metadata": {},
   "source": [
    "## Set working directory"
   ]
  },
  {
   "cell_type": "code",
   "execution_count": 2,
   "id": "dc4cec40",
   "metadata": {},
   "outputs": [],
   "source": [
    "cwd= os.getcwd()"
   ]
  },
  {
   "cell_type": "code",
   "execution_count": 3,
   "id": "008e0dd3",
   "metadata": {},
   "outputs": [
    {
     "name": "stdout",
     "output_type": "stream",
     "text": [
      "You set a new current directory\n"
     ]
    }
   ],
   "source": [
    "os.chdir('/workspaces/Mildew-detection-in-cherry-leaves')\n",
    "print(\"You set a new current directory\")"
   ]
  },
  {
   "cell_type": "code",
   "execution_count": 4,
   "id": "426ee617",
   "metadata": {},
   "outputs": [
    {
     "data": {
      "text/plain": [
       "'/workspaces/Mildew-detection-in-cherry-leaves'"
      ]
     },
     "execution_count": 4,
     "metadata": {},
     "output_type": "execute_result"
    }
   ],
   "source": [
    "work_dir = os.getcwd()\n",
    "work_dir"
   ]
  }
 ],
 "metadata": {
  "kernelspec": {
   "display_name": "3.12.1",
   "language": "python",
   "name": "python3"
  },
  "language_info": {
   "codemirror_mode": {
    "name": "ipython",
    "version": 3
   },
   "file_extension": ".py",
   "mimetype": "text/x-python",
   "name": "python",
   "nbconvert_exporter": "python",
   "pygments_lexer": "ipython3",
   "version": "3.12.1"
  }
 },
 "nbformat": 4,
 "nbformat_minor": 5
}
