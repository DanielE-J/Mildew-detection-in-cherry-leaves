{
  "cells": [
    {
      "cell_type": "markdown",
      "metadata": {},
      "source": [
        "# Data Collection"
      ]
    },
    {
      "cell_type": "markdown",
      "metadata": {},
      "source": [
        "## Objectives"
      ]
    },
    {
      "cell_type": "markdown",
      "metadata": {},
      "source": [
        "* Import packages\n",
        "\n",
        "* Set working directory\n",
        "\n",
        "* Fetch data from Kaggle\n",
        "\n",
        "* Prepare data\n",
        "\n",
        "* Clean data\n",
        "\n",
        "* Split data"
      ]
    },
    {
      "cell_type": "markdown",
      "metadata": {},
      "source": [
        "## Inputs"
      ]
    },
    {
      "cell_type": "markdown",
      "metadata": {},
      "source": [
        "* Kaggle.JSON file - authentication token"
      ]
    },
    {
      "cell_type": "markdown",
      "metadata": {},
      "source": [
        "## Outputs "
      ]
    },
    {
      "cell_type": "markdown",
      "metadata": {},
      "source": [
        "* Generate Dataset: input/dataset/cherry_leaves\n",
        "\n",
        "* Once you download the dataset from Kaggle, its folder structure will look like this:"
      ]
    },
    {
      "cell_type": "markdown",
      "metadata": {},
      "source": [
        "    ├── inputs\n",
        "    │   └──cherryleaves_dataset\n",
        "    │      └──cherry-leaves\n",
        "    │           │\n",
        "    │           ├── test\n",
        "    │           │   ├── healthy\n",
        "    │           │   └── powdery_mildew\n",
        "    │           │\n",
        "    │           ├── train\n",
        "    │           │   ├── healthy\n",
        "    │           │   └── powdery_mildew\n",
        "    │           │\n",
        "    │           └── validation\n",
        "    │               ├── healthy\n",
        "    │               └── powdery_mildew\n",
        "    └──"
      ]
    },
    {
      "cell_type": "markdown",
      "metadata": {},
      "source": [
        "## Comments | Insights | Conclusions"
      ]
    },
    {
      "cell_type": "markdown",
      "metadata": {},
      "source": [
        "* These steps prepare the data fetching, cleaning, and splitting it into subsets for machine learning. The next step is data visualization to explore and identify patterns."
      ]
    },
    {
      "cell_type": "markdown",
      "metadata": {},
      "source": [
        "---"
      ]
    }
  ],
  "metadata": {
    "accelerator": "GPU",
    "colab": {
      "name": "Data Practitioner Jupyter Notebook.ipynb",
      "provenance": [],
      "toc_visible": true
    },
    "kernelspec": {
      "display_name": "3.12.1",
      "language": "python",
      "name": "python3"
    },
    "language_info": {
      "codemirror_mode": {
        "name": "ipython",
        "version": 3
      },
      "file_extension": ".py",
      "mimetype": "text/x-python",
      "name": "python",
      "nbconvert_exporter": "python",
      "pygments_lexer": "ipython3",
      "version": "3.12.1"
    },
    "orig_nbformat": 2
  },
  "nbformat": 4,
  "nbformat_minor": 2
}
