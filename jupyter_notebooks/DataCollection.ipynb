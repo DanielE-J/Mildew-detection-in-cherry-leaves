{
  "cells": [
    {
      "cell_type": "markdown",
      "metadata": {},
      "source": [
        "# Data Collection"
      ]
    },
    {
      "cell_type": "markdown",
      "metadata": {},
      "source": [
        "## Objectives"
      ]
    },
    {
      "cell_type": "markdown",
      "metadata": {},
      "source": [
        "* Import packages\n",
        "\n",
        "* Set working directory\n",
        "\n",
        "* Fetch data from Kaggle\n",
        "\n",
        "* Prepare data\n",
        "\n",
        "* Clean data\n",
        "\n",
        "* Split data"
      ]
    },
    {
      "cell_type": "markdown",
      "metadata": {},
      "source": [
        "## Inputs"
      ]
    },
    {
      "cell_type": "markdown",
      "metadata": {},
      "source": [
        "* Kaggle.JSON file - authentication token"
      ]
    },
    {
      "cell_type": "markdown",
      "metadata": {},
      "source": [
        "## Outputs "
      ]
    },
    {
      "cell_type": "markdown",
      "metadata": {},
      "source": [
        "* Generate Dataset: input/dataset/cherry_leaves\n",
        "\n",
        "* Once you download the dataset from Kaggle, its folder structure will look like this:"
      ]
    },
    {
      "cell_type": "markdown",
      "metadata": {},
      "source": [
        "    ├── inputs\n",
        "    │   └──cherryleaves_dataset\n",
        "    │      └──cherry-leaves\n",
        "    │           │\n",
        "    │           ├── test\n",
        "    │           │   ├── healthy\n",
        "    │           │   └── powdery_mildew\n",
        "    │           │\n",
        "    │           ├── train\n",
        "    │           │   ├── healthy\n",
        "    │           │   └── powdery_mildew\n",
        "    │           │\n",
        "    │           └── validation\n",
        "    │               ├── healthy\n",
        "    │               └── powdery_mildew\n",
        "    └──"
      ]
    },
    {
      "cell_type": "markdown",
      "metadata": {},
      "source": [
        "## Comments | Insights | Conclusions"
      ]
    },
    {
      "cell_type": "markdown",
      "metadata": {},
      "source": [
        "* These steps prepare the data fetching, cleaning, and splitting it into subsets for machine learning. The next step is data visualization to explore and identify patterns."
      ]
    },
    {
      "cell_type": "markdown",
      "metadata": {},
      "source": [
        "---"
      ]
    },
    {
      "cell_type": "markdown",
      "metadata": {},
      "source": [
        "# Import packages"
      ]
    },
    {
      "cell_type": "code",
      "execution_count": 1,
      "metadata": {},
      "outputs": [
        {
          "name": "stdout",
          "output_type": "stream",
          "text": [
            "Requirement already satisfied: numpy==1.26.1 in /home/cistudent/.local/lib/python3.12/site-packages (from -r /workspaces/Mildew-detection-in-cherry-leaves/requirements.txt (line 1)) (1.26.1)\n",
            "Requirement already satisfied: pandas==2.1.1 in /home/cistudent/.local/lib/python3.12/site-packages (from -r /workspaces/Mildew-detection-in-cherry-leaves/requirements.txt (line 2)) (2.1.1)\n",
            "Requirement already satisfied: matplotlib==3.8.0 in /home/cistudent/.local/lib/python3.12/site-packages (from -r /workspaces/Mildew-detection-in-cherry-leaves/requirements.txt (line 3)) (3.8.0)\n",
            "Requirement already satisfied: seaborn==0.13.2 in /home/cistudent/.local/lib/python3.12/site-packages (from -r /workspaces/Mildew-detection-in-cherry-leaves/requirements.txt (line 4)) (0.13.2)\n",
            "Requirement already satisfied: plotly==5.17.0 in /home/cistudent/.local/lib/python3.12/site-packages (from -r /workspaces/Mildew-detection-in-cherry-leaves/requirements.txt (line 5)) (5.17.0)\n",
            "Requirement already satisfied: Pillow==10.0.1 in /home/cistudent/.local/lib/python3.12/site-packages (from -r /workspaces/Mildew-detection-in-cherry-leaves/requirements.txt (line 6)) (10.0.1)\n",
            "Requirement already satisfied: streamlit==1.40.2 in /home/cistudent/.local/lib/python3.12/site-packages (from -r /workspaces/Mildew-detection-in-cherry-leaves/requirements.txt (line 7)) (1.40.2)\n",
            "Requirement already satisfied: joblib==1.4.2 in /home/cistudent/.local/lib/python3.12/site-packages (from -r /workspaces/Mildew-detection-in-cherry-leaves/requirements.txt (line 8)) (1.4.2)\n",
            "Requirement already satisfied: scikit-learn==1.3.1 in /home/cistudent/.local/lib/python3.12/site-packages (from -r /workspaces/Mildew-detection-in-cherry-leaves/requirements.txt (line 9)) (1.3.1)\n",
            "Requirement already satisfied: tensorflow-cpu==2.16.1 in /home/cistudent/.local/lib/python3.12/site-packages (from -r /workspaces/Mildew-detection-in-cherry-leaves/requirements.txt (line 10)) (2.16.1)\n",
            "Requirement already satisfied: keras>=3.0.0 in /home/cistudent/.local/lib/python3.12/site-packages (from -r /workspaces/Mildew-detection-in-cherry-leaves/requirements.txt (line 11)) (3.11.3)\n",
            "Requirement already satisfied: python-dateutil>=2.8.2 in /home/cistudent/.pyenv/versions/3.12.1/lib/python3.12/site-packages (from pandas==2.1.1->-r /workspaces/Mildew-detection-in-cherry-leaves/requirements.txt (line 2)) (2.9.0.post0)\n",
            "Requirement already satisfied: pytz>=2020.1 in /home/cistudent/.local/lib/python3.12/site-packages (from pandas==2.1.1->-r /workspaces/Mildew-detection-in-cherry-leaves/requirements.txt (line 2)) (2025.2)\n",
            "Requirement already satisfied: tzdata>=2022.1 in /home/cistudent/.local/lib/python3.12/site-packages (from pandas==2.1.1->-r /workspaces/Mildew-detection-in-cherry-leaves/requirements.txt (line 2)) (2025.2)\n",
            "Requirement already satisfied: contourpy>=1.0.1 in /home/cistudent/.local/lib/python3.12/site-packages (from matplotlib==3.8.0->-r /workspaces/Mildew-detection-in-cherry-leaves/requirements.txt (line 3)) (1.3.3)\n",
            "Requirement already satisfied: cycler>=0.10 in /home/cistudent/.local/lib/python3.12/site-packages (from matplotlib==3.8.0->-r /workspaces/Mildew-detection-in-cherry-leaves/requirements.txt (line 3)) (0.12.1)\n",
            "Requirement already satisfied: fonttools>=4.22.0 in /home/cistudent/.local/lib/python3.12/site-packages (from matplotlib==3.8.0->-r /workspaces/Mildew-detection-in-cherry-leaves/requirements.txt (line 3)) (4.60.1)\n",
            "Requirement already satisfied: kiwisolver>=1.0.1 in /home/cistudent/.local/lib/python3.12/site-packages (from matplotlib==3.8.0->-r /workspaces/Mildew-detection-in-cherry-leaves/requirements.txt (line 3)) (1.4.9)\n",
            "Requirement already satisfied: packaging>=20.0 in /home/cistudent/.pyenv/versions/3.12.1/lib/python3.12/site-packages (from matplotlib==3.8.0->-r /workspaces/Mildew-detection-in-cherry-leaves/requirements.txt (line 3)) (24.2)\n",
            "Requirement already satisfied: pyparsing>=2.3.1 in /home/cistudent/.local/lib/python3.12/site-packages (from matplotlib==3.8.0->-r /workspaces/Mildew-detection-in-cherry-leaves/requirements.txt (line 3)) (3.2.5)\n",
            "Requirement already satisfied: tenacity>=6.2.0 in /home/cistudent/.local/lib/python3.12/site-packages (from plotly==5.17.0->-r /workspaces/Mildew-detection-in-cherry-leaves/requirements.txt (line 5)) (9.1.2)\n",
            "Requirement already satisfied: altair<6,>=4.0 in /home/cistudent/.local/lib/python3.12/site-packages (from streamlit==1.40.2->-r /workspaces/Mildew-detection-in-cherry-leaves/requirements.txt (line 7)) (5.5.0)\n",
            "Requirement already satisfied: blinker<2,>=1.0.0 in /home/cistudent/.local/lib/python3.12/site-packages (from streamlit==1.40.2->-r /workspaces/Mildew-detection-in-cherry-leaves/requirements.txt (line 7)) (1.9.0)\n",
            "Requirement already satisfied: cachetools<6,>=4.0 in /home/cistudent/.local/lib/python3.12/site-packages (from streamlit==1.40.2->-r /workspaces/Mildew-detection-in-cherry-leaves/requirements.txt (line 7)) (5.5.2)\n",
            "Requirement already satisfied: click<9,>=7.0 in /home/cistudent/.local/lib/python3.12/site-packages (from streamlit==1.40.2->-r /workspaces/Mildew-detection-in-cherry-leaves/requirements.txt (line 7)) (8.3.0)\n",
            "Requirement already satisfied: protobuf<6,>=3.20 in /home/cistudent/.local/lib/python3.12/site-packages (from streamlit==1.40.2->-r /workspaces/Mildew-detection-in-cherry-leaves/requirements.txt (line 7)) (4.25.8)\n",
            "Requirement already satisfied: pyarrow>=7.0 in /home/cistudent/.local/lib/python3.12/site-packages (from streamlit==1.40.2->-r /workspaces/Mildew-detection-in-cherry-leaves/requirements.txt (line 7)) (21.0.0)\n",
            "Requirement already satisfied: requests<3,>=2.27 in /home/cistudent/.pyenv/versions/3.12.1/lib/python3.12/site-packages (from streamlit==1.40.2->-r /workspaces/Mildew-detection-in-cherry-leaves/requirements.txt (line 7)) (2.32.3)\n",
            "Requirement already satisfied: rich<14,>=10.14.0 in /home/cistudent/.pyenv/versions/3.12.1/lib/python3.12/site-packages (from streamlit==1.40.2->-r /workspaces/Mildew-detection-in-cherry-leaves/requirements.txt (line 7)) (13.9.4)\n",
            "Requirement already satisfied: toml<2,>=0.10.1 in /home/cistudent/.local/lib/python3.12/site-packages (from streamlit==1.40.2->-r /workspaces/Mildew-detection-in-cherry-leaves/requirements.txt (line 7)) (0.10.2)\n",
            "Requirement already satisfied: typing-extensions<5,>=4.3.0 in /home/cistudent/.pyenv/versions/3.12.1/lib/python3.12/site-packages (from streamlit==1.40.2->-r /workspaces/Mildew-detection-in-cherry-leaves/requirements.txt (line 7)) (4.12.2)\n",
            "Requirement already satisfied: watchdog<7,>=2.1.5 in /home/cistudent/.local/lib/python3.12/site-packages (from streamlit==1.40.2->-r /workspaces/Mildew-detection-in-cherry-leaves/requirements.txt (line 7)) (6.0.0)\n",
            "Requirement already satisfied: gitpython!=3.1.19,<4,>=3.0.7 in /home/cistudent/.local/lib/python3.12/site-packages (from streamlit==1.40.2->-r /workspaces/Mildew-detection-in-cherry-leaves/requirements.txt (line 7)) (3.1.45)\n",
            "Requirement already satisfied: pydeck<1,>=0.8.0b4 in /home/cistudent/.local/lib/python3.12/site-packages (from streamlit==1.40.2->-r /workspaces/Mildew-detection-in-cherry-leaves/requirements.txt (line 7)) (0.9.1)\n",
            "Requirement already satisfied: tornado<7,>=6.0.3 in /home/cistudent/.pyenv/versions/3.12.1/lib/python3.12/site-packages (from streamlit==1.40.2->-r /workspaces/Mildew-detection-in-cherry-leaves/requirements.txt (line 7)) (6.4.2)\n",
            "Requirement already satisfied: scipy>=1.5.0 in /home/cistudent/.local/lib/python3.12/site-packages (from scikit-learn==1.3.1->-r /workspaces/Mildew-detection-in-cherry-leaves/requirements.txt (line 9)) (1.16.2)\n",
            "Requirement already satisfied: threadpoolctl>=2.0.0 in /home/cistudent/.local/lib/python3.12/site-packages (from scikit-learn==1.3.1->-r /workspaces/Mildew-detection-in-cherry-leaves/requirements.txt (line 9)) (3.6.0)\n",
            "Requirement already satisfied: absl-py>=1.0.0 in /home/cistudent/.local/lib/python3.12/site-packages (from tensorflow-cpu==2.16.1->-r /workspaces/Mildew-detection-in-cherry-leaves/requirements.txt (line 10)) (2.3.1)\n",
            "Requirement already satisfied: astunparse>=1.6.0 in /home/cistudent/.local/lib/python3.12/site-packages (from tensorflow-cpu==2.16.1->-r /workspaces/Mildew-detection-in-cherry-leaves/requirements.txt (line 10)) (1.6.3)\n",
            "Requirement already satisfied: flatbuffers>=23.5.26 in /home/cistudent/.local/lib/python3.12/site-packages (from tensorflow-cpu==2.16.1->-r /workspaces/Mildew-detection-in-cherry-leaves/requirements.txt (line 10)) (25.9.23)\n",
            "Requirement already satisfied: gast!=0.5.0,!=0.5.1,!=0.5.2,>=0.2.1 in /home/cistudent/.local/lib/python3.12/site-packages (from tensorflow-cpu==2.16.1->-r /workspaces/Mildew-detection-in-cherry-leaves/requirements.txt (line 10)) (0.6.0)\n",
            "Requirement already satisfied: google-pasta>=0.1.1 in /home/cistudent/.local/lib/python3.12/site-packages (from tensorflow-cpu==2.16.1->-r /workspaces/Mildew-detection-in-cherry-leaves/requirements.txt (line 10)) (0.2.0)\n",
            "Requirement already satisfied: h5py>=3.10.0 in /home/cistudent/.local/lib/python3.12/site-packages (from tensorflow-cpu==2.16.1->-r /workspaces/Mildew-detection-in-cherry-leaves/requirements.txt (line 10)) (3.14.0)\n",
            "Requirement already satisfied: libclang>=13.0.0 in /home/cistudent/.local/lib/python3.12/site-packages (from tensorflow-cpu==2.16.1->-r /workspaces/Mildew-detection-in-cherry-leaves/requirements.txt (line 10)) (18.1.1)\n",
            "Requirement already satisfied: ml-dtypes~=0.3.1 in /home/cistudent/.local/lib/python3.12/site-packages (from tensorflow-cpu==2.16.1->-r /workspaces/Mildew-detection-in-cherry-leaves/requirements.txt (line 10)) (0.3.2)\n",
            "Requirement already satisfied: opt-einsum>=2.3.2 in /home/cistudent/.local/lib/python3.12/site-packages (from tensorflow-cpu==2.16.1->-r /workspaces/Mildew-detection-in-cherry-leaves/requirements.txt (line 10)) (3.4.0)\n",
            "Requirement already satisfied: setuptools in /home/cistudent/.pyenv/versions/3.12.1/lib/python3.12/site-packages (from tensorflow-cpu==2.16.1->-r /workspaces/Mildew-detection-in-cherry-leaves/requirements.txt (line 10)) (75.6.0)\n",
            "Requirement already satisfied: six>=1.12.0 in /home/cistudent/.pyenv/versions/3.12.1/lib/python3.12/site-packages (from tensorflow-cpu==2.16.1->-r /workspaces/Mildew-detection-in-cherry-leaves/requirements.txt (line 10)) (1.17.0)\n",
            "Requirement already satisfied: termcolor>=1.1.0 in /home/cistudent/.local/lib/python3.12/site-packages (from tensorflow-cpu==2.16.1->-r /workspaces/Mildew-detection-in-cherry-leaves/requirements.txt (line 10)) (3.1.0)\n",
            "Requirement already satisfied: wrapt>=1.11.0 in /home/cistudent/.local/lib/python3.12/site-packages (from tensorflow-cpu==2.16.1->-r /workspaces/Mildew-detection-in-cherry-leaves/requirements.txt (line 10)) (1.17.3)\n",
            "Requirement already satisfied: grpcio<2.0,>=1.24.3 in /home/cistudent/.local/lib/python3.12/site-packages (from tensorflow-cpu==2.16.1->-r /workspaces/Mildew-detection-in-cherry-leaves/requirements.txt (line 10)) (1.75.1)\n",
            "Requirement already satisfied: tensorboard<2.17,>=2.16 in /home/cistudent/.local/lib/python3.12/site-packages (from tensorflow-cpu==2.16.1->-r /workspaces/Mildew-detection-in-cherry-leaves/requirements.txt (line 10)) (2.16.2)\n",
            "Requirement already satisfied: namex in /home/cistudent/.local/lib/python3.12/site-packages (from keras>=3.0.0->-r /workspaces/Mildew-detection-in-cherry-leaves/requirements.txt (line 11)) (0.1.0)\n",
            "Requirement already satisfied: optree in /home/cistudent/.local/lib/python3.12/site-packages (from keras>=3.0.0->-r /workspaces/Mildew-detection-in-cherry-leaves/requirements.txt (line 11)) (0.17.0)\n",
            "Requirement already satisfied: jinja2 in /home/cistudent/.pyenv/versions/3.12.1/lib/python3.12/site-packages (from altair<6,>=4.0->streamlit==1.40.2->-r /workspaces/Mildew-detection-in-cherry-leaves/requirements.txt (line 7)) (3.1.4)\n",
            "Requirement already satisfied: jsonschema>=3.0 in /home/cistudent/.pyenv/versions/3.12.1/lib/python3.12/site-packages (from altair<6,>=4.0->streamlit==1.40.2->-r /workspaces/Mildew-detection-in-cherry-leaves/requirements.txt (line 7)) (4.23.0)\n",
            "Requirement already satisfied: narwhals>=1.14.2 in /home/cistudent/.local/lib/python3.12/site-packages (from altair<6,>=4.0->streamlit==1.40.2->-r /workspaces/Mildew-detection-in-cherry-leaves/requirements.txt (line 7)) (2.7.0)\n",
            "Requirement already satisfied: wheel<1.0,>=0.23.0 in /home/cistudent/.pyenv/versions/3.12.1/lib/python3.12/site-packages (from astunparse>=1.6.0->tensorflow-cpu==2.16.1->-r /workspaces/Mildew-detection-in-cherry-leaves/requirements.txt (line 10)) (0.45.1)\n",
            "Requirement already satisfied: gitdb<5,>=4.0.1 in /home/cistudent/.local/lib/python3.12/site-packages (from gitpython!=3.1.19,<4,>=3.0.7->streamlit==1.40.2->-r /workspaces/Mildew-detection-in-cherry-leaves/requirements.txt (line 7)) (4.0.12)\n",
            "Requirement already satisfied: charset-normalizer<4,>=2 in /home/cistudent/.pyenv/versions/3.12.1/lib/python3.12/site-packages (from requests<3,>=2.27->streamlit==1.40.2->-r /workspaces/Mildew-detection-in-cherry-leaves/requirements.txt (line 7)) (3.4.0)\n",
            "Requirement already satisfied: idna<4,>=2.5 in /home/cistudent/.pyenv/versions/3.12.1/lib/python3.12/site-packages (from requests<3,>=2.27->streamlit==1.40.2->-r /workspaces/Mildew-detection-in-cherry-leaves/requirements.txt (line 7)) (3.10)\n",
            "Requirement already satisfied: urllib3<3,>=1.21.1 in /home/cistudent/.pyenv/versions/3.12.1/lib/python3.12/site-packages (from requests<3,>=2.27->streamlit==1.40.2->-r /workspaces/Mildew-detection-in-cherry-leaves/requirements.txt (line 7)) (2.2.3)\n",
            "Requirement already satisfied: certifi>=2017.4.17 in /home/cistudent/.pyenv/versions/3.12.1/lib/python3.12/site-packages (from requests<3,>=2.27->streamlit==1.40.2->-r /workspaces/Mildew-detection-in-cherry-leaves/requirements.txt (line 7)) (2024.12.14)\n",
            "Requirement already satisfied: markdown-it-py>=2.2.0 in /home/cistudent/.pyenv/versions/3.12.1/lib/python3.12/site-packages (from rich<14,>=10.14.0->streamlit==1.40.2->-r /workspaces/Mildew-detection-in-cherry-leaves/requirements.txt (line 7)) (3.0.0)\n",
            "Requirement already satisfied: pygments<3.0.0,>=2.13.0 in /home/cistudent/.pyenv/versions/3.12.1/lib/python3.12/site-packages (from rich<14,>=10.14.0->streamlit==1.40.2->-r /workspaces/Mildew-detection-in-cherry-leaves/requirements.txt (line 7)) (2.18.0)\n",
            "Requirement already satisfied: markdown>=2.6.8 in /home/cistudent/.local/lib/python3.12/site-packages (from tensorboard<2.17,>=2.16->tensorflow-cpu==2.16.1->-r /workspaces/Mildew-detection-in-cherry-leaves/requirements.txt (line 10)) (3.9)\n",
            "Requirement already satisfied: tensorboard-data-server<0.8.0,>=0.7.0 in /home/cistudent/.local/lib/python3.12/site-packages (from tensorboard<2.17,>=2.16->tensorflow-cpu==2.16.1->-r /workspaces/Mildew-detection-in-cherry-leaves/requirements.txt (line 10)) (0.7.2)\n",
            "Requirement already satisfied: werkzeug>=1.0.1 in /home/cistudent/.local/lib/python3.12/site-packages (from tensorboard<2.17,>=2.16->tensorflow-cpu==2.16.1->-r /workspaces/Mildew-detection-in-cherry-leaves/requirements.txt (line 10)) (3.1.3)\n",
            "Requirement already satisfied: smmap<6,>=3.0.1 in /home/cistudent/.local/lib/python3.12/site-packages (from gitdb<5,>=4.0.1->gitpython!=3.1.19,<4,>=3.0.7->streamlit==1.40.2->-r /workspaces/Mildew-detection-in-cherry-leaves/requirements.txt (line 7)) (5.0.2)\n",
            "Requirement already satisfied: MarkupSafe>=2.0 in /home/cistudent/.pyenv/versions/3.12.1/lib/python3.12/site-packages (from jinja2->altair<6,>=4.0->streamlit==1.40.2->-r /workspaces/Mildew-detection-in-cherry-leaves/requirements.txt (line 7)) (3.0.2)\n",
            "Requirement already satisfied: attrs>=22.2.0 in /home/cistudent/.pyenv/versions/3.12.1/lib/python3.12/site-packages (from jsonschema>=3.0->altair<6,>=4.0->streamlit==1.40.2->-r /workspaces/Mildew-detection-in-cherry-leaves/requirements.txt (line 7)) (24.3.0)\n",
            "Requirement already satisfied: jsonschema-specifications>=2023.03.6 in /home/cistudent/.pyenv/versions/3.12.1/lib/python3.12/site-packages (from jsonschema>=3.0->altair<6,>=4.0->streamlit==1.40.2->-r /workspaces/Mildew-detection-in-cherry-leaves/requirements.txt (line 7)) (2024.10.1)\n",
            "Requirement already satisfied: referencing>=0.28.4 in /home/cistudent/.pyenv/versions/3.12.1/lib/python3.12/site-packages (from jsonschema>=3.0->altair<6,>=4.0->streamlit==1.40.2->-r /workspaces/Mildew-detection-in-cherry-leaves/requirements.txt (line 7)) (0.35.1)\n",
            "Requirement already satisfied: rpds-py>=0.7.1 in /home/cistudent/.pyenv/versions/3.12.1/lib/python3.12/site-packages (from jsonschema>=3.0->altair<6,>=4.0->streamlit==1.40.2->-r /workspaces/Mildew-detection-in-cherry-leaves/requirements.txt (line 7)) (0.22.3)\n",
            "Requirement already satisfied: mdurl~=0.1 in /home/cistudent/.pyenv/versions/3.12.1/lib/python3.12/site-packages (from markdown-it-py>=2.2.0->rich<14,>=10.14.0->streamlit==1.40.2->-r /workspaces/Mildew-detection-in-cherry-leaves/requirements.txt (line 7)) (0.1.2)\n",
            "\n",
            "\u001b[1m[\u001b[0m\u001b[34;49mnotice\u001b[0m\u001b[1;39;49m]\u001b[0m\u001b[39;49m A new release of pip is available: \u001b[0m\u001b[31;49m24.3.1\u001b[0m\u001b[39;49m -> \u001b[0m\u001b[32;49m25.2\u001b[0m\n",
            "\u001b[1m[\u001b[0m\u001b[34;49mnotice\u001b[0m\u001b[1;39;49m]\u001b[0m\u001b[39;49m To update, run: \u001b[0m\u001b[32;49mpip install --upgrade pip\u001b[0m\n"
          ]
        }
      ],
      "source": [
        "! pip install -r /workspaces/Mildew-detection-in-cherry-leaves/requirements.txt"
      ]
    },
    {
      "cell_type": "code",
      "execution_count": 1,
      "metadata": {},
      "outputs": [],
      "source": [
        "import numpy\n",
        "import os"
      ]
    }
  ],
  "metadata": {
    "accelerator": "GPU",
    "colab": {
      "name": "Data Practitioner Jupyter Notebook.ipynb",
      "provenance": [],
      "toc_visible": true
    },
    "kernelspec": {
      "display_name": "3.12.1",
      "language": "python",
      "name": "python3"
    },
    "language_info": {
      "codemirror_mode": {
        "name": "ipython",
        "version": 3
      },
      "file_extension": ".py",
      "mimetype": "text/x-python",
      "name": "python",
      "nbconvert_exporter": "python",
      "pygments_lexer": "ipython3",
      "version": "3.12.1"
    },
    "orig_nbformat": 2
  },
  "nbformat": 4,
  "nbformat_minor": 2
}
